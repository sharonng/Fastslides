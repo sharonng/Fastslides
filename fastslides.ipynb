{
 "cells": [
  {
   "cell_type": "markdown",
   "metadata": {},
   "source": [
    "The goal of this script is to make powerpoint presentations quickly and efficiently. Here are the steps:\n",
    "1. Create slides per segment for every other work week based off the PPT template\n",
    "2. Change the text box of the front slide to the segment name. Change the titles of spending and HC slides to the work week \n",
    "3. Add in the adjustment as a bullet point for each group on the second slide\n",
    "4. Open up the most recent tracker in the specific work weeek folder and make powerpoints for all the groups\n",
    "5. Take screen shots and put them in the perfect place\n"
   ]
  },
  {
   "cell_type": "code",
   "execution_count": 1,
   "metadata": {},
   "outputs": [],
   "source": [
    "import pptx\n",
    "import pyautogui\n",
    "import openpyxl\n",
    "import os\n",
    "import shutil\n",
    "from pptx.util import Inches, Pt\n",
    "import excel2img\n",
    "from openpyxl import Workbook\n",
    "from openpyxl import load_workbook\n",
    "import xlwt\n",
    "import xlrd\n",
    "from time import sleep"
   ]
  },
  {
   "cell_type": "markdown",
   "metadata": {},
   "source": [
    "# Templates"
   ]
  },
  {
   "cell_type": "code",
   "execution_count": 2,
   "metadata": {},
   "outputs": [],
   "source": [
    "#Dictionary to make the key = segment acronym, values = full name and adjustment\n",
    "segment_dict = {}\n",
    "segments = ['CE', 'EAD','EDP', 'InfoSec','ITI','MTR','PP', 'PP2D']\n",
    "segments_names = ['Corporate Enablement','Enterprise Applications Delivery','Enterprise Data & Platforms','Information Security', 'IT Infrastructure', 'Market to Revenue', 'Produce Product',  'Product Planning to Deliver']\n",
    "\n",
    "#read the text file with all adjustments and strip the new line spacing\n",
    "all_adjustments = [line.rstrip('\\n') for line in open(r\"C:\\Users\\sharonng\\Desktop\\slides\\adjustments.txt\")]\n",
    "    \n",
    "for segment, segment_name, adjustment in zip(segments, segments_names, all_adjustments):\n",
    "    segment_dict[segment] = {'name': segment_name, 'adjustment': adjustment}\n"
   ]
  },
  {
   "cell_type": "code",
   "execution_count": 3,
   "metadata": {},
   "outputs": [
    {
     "name": "stdout",
     "output_type": "stream",
     "text": [
      "\n",
      "Entering slide id#282\n",
      "Text = Q4 qtd spending update\n",
      "Text = Segment\n",
      "IT Central Finance\n",
      "\n",
      "\n",
      "Entering slide id#283\n",
      "Text = \n",
      "Text = \n",
      "Text = 2\n",
      "Text = \n",
      "\n",
      "Entering slide id#284\n",
      "Text = 3\n",
      "Text = \n",
      "Text = \n"
     ]
    }
   ],
   "source": [
    "#testing/practicing\n",
    "test_ppt_path = r\"C:\\Users\\sharonng\\Desktop\\slides\\template.pptx\"\n",
    "test_ppt = pptx.Presentation(test_ppt_path)\n",
    "slides = test_ppt.slides\n",
    "\n",
    "for slide in slides:\n",
    "    print(f\"\\nEntering slide id#{slide.slide_id}\")\n",
    "    for shape in slide.shapes:\n",
    "        if shape.has_text_frame:\n",
    "            text_frame = shape.text_frame\n",
    "            text = text_frame.text\n",
    "            print(f\"Text = {text}\")\n",
    "            #             print(text_frame.paragraphs)\n"
   ]
  },
  {
   "cell_type": "code",
   "execution_count": 4,
   "metadata": {
    "scrolled": true
   },
   "outputs": [
    {
     "name": "stdout",
     "output_type": "stream",
     "text": [
      "idx #:0, Title 1\n",
      "idx #:1, Subtitle 2\n",
      "idx #:0, Title 1\n",
      "idx #:12, Slide Number Placeholder 3\n",
      "idx #:14, Text Placeholder 4\n",
      "idx #:15, Picture Placeholder 2\n",
      "idx #:0, Title 3\n",
      "idx #:10, Slide Number Placeholder 1\n",
      "idx #:11, Picture Placeholder 2\n"
     ]
    }
   ],
   "source": [
    "#printing idx values for placeholders\n",
    "for i in range(3):\n",
    "    for shape in slides[i].placeholders:\n",
    "        print(f\"idx #:{shape.placeholder_format.idx}, {shape.name}\")\n"
   ]
  },
  {
   "cell_type": "code",
   "execution_count": 5,
   "metadata": {},
   "outputs": [
    {
     "data": {
      "text/plain": [
       "<pptx.shapes.placeholder.SlidePlaceholder at 0x20211788be0>"
      ]
     },
     "execution_count": 5,
     "metadata": {},
     "output_type": "execute_result"
    }
   ],
   "source": [
    "slides[2].shapes[2]"
   ]
  },
  {
   "cell_type": "code",
   "execution_count": null,
   "metadata": {
    "scrolled": true
   },
   "outputs": [],
   "source": [
    "#This is a test to see what it looks like when you insert an image into the placeholder with predetermined sizes. It adds 6+ slides\n",
    "\n",
    "# newslide = test_ppt.slides.add_slide(test_ppt.slide_layouts[1])\n",
    "# placeholder = newslide.placeholders[15]\n",
    "\n",
    "# pic = placeholder.insert_picture(r\"C:\\Users\\sharonng\\Desktop\\slides\\grandtotal.png\")\n",
    "# test_ppt.save(test_ppt_path)"
   ]
  },
  {
   "cell_type": "markdown",
   "metadata": {},
   "source": [
    "Now that we have all the basic templates, here are the next steps to exporting images:\n",
    "1. Need to toggle through the drop down for each respective segment. C8 = segment 1, segment 2 etc.\n",
    "2. Run the excel2img.export_img for each group \n",
    "3. After getting the spending summary, need to hide lines 12-25 then do the same export for hc update\n",
    "4. Save with the appropriate title in the pics folder\n",
    "\n",
    "Process:\n",
    "1. Make the work week folder, then make a pics folder named 'ww pics'\n",
    "2. Make the pic list names\n",
    "3. Export to the folder\n",
    "\n",
    "Problems:\n",
    "- The file gets corrupted when I tried to write a script to open the excel file, change C8, save it and export the image. \n",
    "- It is inefficient to go into the file and manually change the C8 cell, save it and let python export the range to an image. It takes almost a minute. It's much faster for me to just open up the spreadsheet, copy and paste as image into the pre-sized powerpoint. "
   ]
  },
  {
   "cell_type": "markdown",
   "metadata": {},
   "source": [
    "## Take screenshots here:"
   ]
  },
  {
   "cell_type": "code",
   "execution_count": 6,
   "metadata": {},
   "outputs": [],
   "source": [
    "wb_path = r\"C:\\Users\\sharonng\\Desktop\\slides\\IT Weekly Spending Tracker WW38.xlsx\"\n",
    "\n",
    "sheetname = 'IT Ops1 Spending Details'"
   ]
  },
  {
   "cell_type": "code",
   "execution_count": 7,
   "metadata": {},
   "outputs": [
    {
     "data": {
      "text/plain": [
       "['CE WW38 spending.png',\n",
       " 'EAD WW38 spending.png',\n",
       " 'EDP WW38 spending.png',\n",
       " 'InfoSec WW38 spending.png',\n",
       " 'ITI WW38 spending.png',\n",
       " 'MTR WW38 spending.png',\n",
       " 'PP WW38 spending.png',\n",
       " 'PP2D WW38 spending.png']"
      ]
     },
     "execution_count": 7,
     "metadata": {},
     "output_type": "execute_result"
    }
   ],
   "source": [
    "#making pic names \n",
    "ww = 'WW38'\n",
    "picnames_spending = []\n",
    "\n",
    "for segment in segments:\n",
    "    picnames_spending.append(f'{segment} {ww} spending.png')\n",
    "picnames_spending"
   ]
  },
  {
   "cell_type": "markdown",
   "metadata": {},
   "source": [
    "I was going to use these pic names to be mapped to each group's acronym. This would've been another value in the dictionary so that I could just insert this into each slide after updating the names and WW#'s. Unfortunately, whenever I would insert an image into the object, it would add 6+ slides and it wasn't worth my time to delete them all after inserting an image. "
   ]
  },
  {
   "cell_type": "code",
   "execution_count": null,
   "metadata": {},
   "outputs": [],
   "source": [
    "picdir = r\"C:\\Users\\sharonng\\Desktop\\slides\\WW38\"\n",
    "os.chdir(picdir)\n",
    "\n",
    "#if the path doesn't exist, then make a new one\n",
    "if not os.path.exists(f'{picdir}\\\\{ww} pics'):\n",
    "    os.mkdir(f'{ww} pics')\n",
    "\n",
    "#change directory so that the pics will save to the directory\n",
    "os.chdir(f'{picdir}\\\\{ww} pics')"
   ]
  },
  {
   "cell_type": "markdown",
   "metadata": {},
   "source": [
    "These are the lines of code of me going into the excel file and changing the name of each group by hand, saving the excel file and then running each line. This takes more time than me just going into the excel file and copy and pasting what I actually need into the pre-sized shape in the PPTs. "
   ]
  },
  {
   "cell_type": "code",
   "execution_count": null,
   "metadata": {},
   "outputs": [],
   "source": [
    "excel2img.export_img(wb_path, picnames_spending[0], sheetname, \"spendingsummary\")"
   ]
  },
  {
   "cell_type": "code",
   "execution_count": null,
   "metadata": {},
   "outputs": [],
   "source": [
    "excel2img.export_img(wb_path, picnames_spending[1], sheetname, \"spendingsummary\")"
   ]
  },
  {
   "cell_type": "code",
   "execution_count": null,
   "metadata": {},
   "outputs": [],
   "source": [
    "excel2img.export_img(wb_path, picnames_spending[2], sheetname, \"spendingsummary\")"
   ]
  },
  {
   "cell_type": "code",
   "execution_count": null,
   "metadata": {},
   "outputs": [],
   "source": [
    "excel2img.export_img(wb_path, picnames_spending[3], sheetname, \"spendingsummary\")"
   ]
  },
  {
   "cell_type": "code",
   "execution_count": null,
   "metadata": {},
   "outputs": [],
   "source": [
    "excel2img.export_img(wb_path, picnames_spending[4], sheetname, \"spendingsummary\")"
   ]
  },
  {
   "cell_type": "code",
   "execution_count": null,
   "metadata": {},
   "outputs": [],
   "source": [
    "excel2img.export_img(wb_path, picnames_spending[5], sheetname, \"spendingsummary\")"
   ]
  },
  {
   "cell_type": "code",
   "execution_count": null,
   "metadata": {},
   "outputs": [],
   "source": [
    "excel2img.export_img(wb_path, picnames_spending[6], sheetname, \"spendingsummary\")"
   ]
  },
  {
   "cell_type": "code",
   "execution_count": null,
   "metadata": {},
   "outputs": [],
   "source": [
    "excel2img.export_img(wb_path, picnames_spending[7], sheetname, \"spendingsummary\")"
   ]
  },
  {
   "cell_type": "code",
   "execution_count": null,
   "metadata": {},
   "outputs": [],
   "source": [
    "##Loop to export range as png\n",
    "#unfortunately, this doesn't work for reasons stated above. \n",
    "\n",
    "wb_path =r'C:\\Users\\sharonng\\Desktop\\slides\\IT Weekly Spending Tracker WW38.xlsx'\n",
    "\n",
    "wb = load_workbook(wb_path)\n",
    "sheetname = 'IT Ops1 Spending Details'\n",
    "sheet = wb[sheetname]\n",
    "\n",
    "picdir = r\"C:\\Users\\sharonng\\Desktop\\slides\\WW38\"\n",
    "os.chdir(picdir)\n",
    "\n",
    "#if the path doesn't exist, then make a new one\n",
    "if not os.path.exists(f'{picdir}\\\\{ww} pics'):\n",
    "    os.mkdir(f'{ww} pics')\n",
    "\n",
    "#change directory so that the pics will save to the directory\n",
    "os.chdir(f'{picdir}\\\\{ww} pics')\n",
    "\n",
    "# for segment, picname in zip(segment_dict, picnames_spending):\n",
    "#     #Change the value of drop down to the correct segment name\n",
    "#     sheet['C8'] = segment_dict[segment]['name']\n",
    "#     print(wb[sheetname][\"C8\"].value)\n",
    "#     print(sheet['C8'].value)\n",
    "#     print('=' * len(segment_dict[segment]['name']))\n",
    "#     wb.save(wb_path)\n",
    "\n",
    "#     from IPython.core.debugger import set_trace;set_trace()\n",
    "    #export pic\n",
    "#     excel2img.export_img(wb_path, f'{picname}', sheetname, \"spendingsummary\")\n",
    "#     sleep(5)"
   ]
  },
  {
   "cell_type": "code",
   "execution_count": null,
   "metadata": {},
   "outputs": [],
   "source": [
    "# This is the part of the script that actually works. It will make a copy of the PPT template, name it accordingly and save\n",
    "\n",
    "template = r\"C:\\Users\\sharonng\\Desktop\\slides\\template.pptx\"\n",
    "path = r\"C:\\Users\\sharonng\\Desktop\\slides\"\n",
    "\n",
    "ww = 'WW42'\n",
    "os.chdir(path)\n",
    "\n",
    "if not os.path.exists(f'{path}\\\\{ww}'):\n",
    "    os.mkdir(ww)\n",
    "\n",
    "#make a list of filenames to call later in presentations\n",
    "filenames = []\n",
    "\n",
    "for segment in segments:\n",
    "    filenames.append(f'{segment} {ww} UPD.pptx')\n",
    "\n",
    "#make a list of filepaths \n",
    "filepath = []\n",
    "\n",
    "for filename in filenames:\n",
    "    #change directory to the new work week\n",
    "    os.chdir(f'{path}\\\\{ww}')\n",
    "    #copy the template and name it with the right file name\n",
    "    shutil.copyfile(template, filename)\n",
    "    #append the list of filepaths so you can call it in the next section\n",
    "    filepath.append(f'{path}\\\\{ww}\\\\{filename}')\n",
    "\n",
    "#open each segments ppt and update the ww, segment name and adjustment\n",
    "for presentation, segment in zip(filepath, segment_dict):\n",
    "    #open presentation and access slides\n",
    "    ppt = pptx.Presentation(presentation)\n",
    "    slides = ppt.slides\n",
    "    \n",
    "    #Update the title slide with the correct segment name \n",
    "    title = ppt.slides[0].shapes[1]\n",
    "    title.text = f\"{segment_dict[segment]['name']}\\nIT Central Finance\"\n",
    "    #print(title.text)\n",
    "\n",
    "    #Update the work week on the spending slide\n",
    "    spending_title = ppt.slides[1].shapes[0]\n",
    "    spending_title.text = f\"{ww} QTD Spending and FY View\"\n",
    "\n",
    "    #Put the adjustment in it own textbox\n",
    "    spending_comments = ppt.slides[1].shapes[3]\n",
    "    spending_comments.text = f\"{segment_dict[segment]['adjustment']}\"\n",
    "    #print(spending_comments.text)\n",
    "\n",
    "\n",
    "    #Update the work week on the HC slide\n",
    "    hc_title = ppt.slides[2].shapes[2]\n",
    "    hc_title.text = f\"{ww} Headcount Update\"\n",
    "\n",
    "    #save file\n",
    "    ppt.save(presentation)"
   ]
  }
 ],
 "metadata": {
  "kernelspec": {
   "display_name": "Python 3",
   "language": "python",
   "name": "python3"
  },
  "language_info": {
   "codemirror_mode": {
    "name": "ipython",
    "version": 3
   },
   "file_extension": ".py",
   "mimetype": "text/x-python",
   "name": "python",
   "nbconvert_exporter": "python",
   "pygments_lexer": "ipython3",
   "version": "3.7.3"
  }
 },
 "nbformat": 4,
 "nbformat_minor": 2
}
